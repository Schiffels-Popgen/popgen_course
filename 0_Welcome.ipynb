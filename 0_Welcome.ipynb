{
 "cells": [
  {
   "cell_type": "markdown",
   "metadata": {},
   "source": [
    "# Welcome to the \"Computational population genetics for human history\" course"
   ]
  },
  {
   "cell_type": "markdown",
   "metadata": {},
   "source": [
    "Welcome to this course, which I've set up to give new students and the interested public a primer on how to analyse human genetic data to learn about human population history. We'll cover everything from analysing ancient genomics data (starting with sequence alignment files) to visualization and analysis methods for population structure and their interpretation. Most results will be based on real findings from studies in recent years."
   ]
  },
  {
   "cell_type": "markdown",
   "metadata": {},
   "source": [
    "This course is structured incrementally, with parts in principle relying on material that were covered in previous parts. That said, each notebook is set up self-contained, so all the cells can in principle be run in order without relying on previous notebooks to be executed. So if you think you know the content of the previous sections, you can jump right in."
   ]
  },
  {
   "cell_type": "markdown",
   "metadata": {},
   "source": [
    "You will see that many steps involved in the presented analyses will require at least some portion of working with the command line or bash notebooks, and one portion that involves plotting, which you can do in _either_ python _or_ R. In some of the analyses we in fact provide both options so you have the luxury of choosing the language you want during this course."
   ]
  },
  {
   "cell_type": "markdown",
   "metadata": {},
   "source": [
    "The sections covered in this course are:\n",
    "\n",
    "0. This Welcome note\n",
    "1. Jupyter\n",
    "   1. [Short primer on Jupyter](./1A_short_primer_on_jupyter.ipynb)\n",
    "   2. [Getting started with Bash notebooks](./1B_getting_started_with_bash_notebooks.ipynb)\n",
    "   3. [Getting started with python notebooks](./1C_getting_started_with_python_notebooks.ipynb)\n",
    "   4. [Getting started with R notebooks (alternative to python)](./1D_getting_started_with_R_notebooks.ipynb)\n",
    "2. Fetching published data with Poseidon\n",
    "3. Adding additional samples from BAM files\n",
    "4. Principal Components analysis\n",
    "    1. Running smartPCA\n",
    "    2. Plotting results in python\n",
    "    3. Plotting results in R\n",
    "5. F-Statistics\n",
    "    1. Computing F statistics with Poseidon and other tools\n",
    "    2. Visualising results in Python\n",
    "    3. Visualising results in R"
   ]
  },
  {
   "cell_type": "markdown",
   "metadata": {},
   "source": [
    "In the future, we'll be adding sections for \n",
    "- ancestry decomposition\n",
    "- admixture graph modelling \n",
    "- MSMC"
   ]
  },
  {
   "cell_type": "markdown",
   "metadata": {},
   "source": [
    "What else would you be interested to be covered here?"
   ]
  },
  {
   "cell_type": "code",
   "execution_count": null,
   "metadata": {},
   "outputs": [],
   "source": []
  }
 ],
 "metadata": {
  "kernelspec": {
   "display_name": "Bash",
   "language": "bash",
   "name": "bash"
  },
  "language_info": {
   "codemirror_mode": "shell",
   "file_extension": ".sh",
   "mimetype": "text/x-sh",
   "name": "bash"
  }
 },
 "nbformat": 4,
 "nbformat_minor": 5
}